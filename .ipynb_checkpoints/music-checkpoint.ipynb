{
 "cells": [
  {
   "cell_type": "code",
   "execution_count": 3,
   "id": "64b52a3c-7590-4497-9ed5-afc7becede23",
   "metadata": {},
   "outputs": [
    {
     "ename": "ImportError",
     "evalue": "cannot import name 'joblib' from 'sklearn.externals' (C:\\ProgramData\\anaconda3\\Lib\\site-packages\\sklearn\\externals\\__init__.py)",
     "output_type": "error",
     "traceback": [
      "\u001b[31m---------------------------------------------------------------------------\u001b[39m",
      "\u001b[31mImportError\u001b[39m                               Traceback (most recent call last)",
      "\u001b[36mCell\u001b[39m\u001b[36m \u001b[39m\u001b[32mIn[3]\u001b[39m\u001b[32m, line 5\u001b[39m\n\u001b[32m      3\u001b[39m \u001b[38;5;28;01mfrom\u001b[39;00m\u001b[38;5;250m \u001b[39m\u001b[34;01msklearn\u001b[39;00m\u001b[34;01m.\u001b[39;00m\u001b[34;01mmodel_selection\u001b[39;00m\u001b[38;5;250m \u001b[39m\u001b[38;5;28;01mimport\u001b[39;00m train_test_split\n\u001b[32m      4\u001b[39m \u001b[38;5;28;01mfrom\u001b[39;00m\u001b[38;5;250m \u001b[39m\u001b[34;01msklearn\u001b[39;00m\u001b[34;01m.\u001b[39;00m\u001b[34;01mmetrics\u001b[39;00m\u001b[38;5;250m \u001b[39m\u001b[38;5;28;01mimport\u001b[39;00m accuracy_score\n\u001b[32m----> \u001b[39m\u001b[32m5\u001b[39m \u001b[38;5;28;01mfrom\u001b[39;00m\u001b[38;5;250m \u001b[39m\u001b[34;01msklearn\u001b[39;00m\u001b[34;01m.\u001b[39;00m\u001b[34;01mexternals\u001b[39;00m\u001b[38;5;250m \u001b[39m\u001b[38;5;28;01mimport\u001b[39;00m joblib\n\u001b[32m      7\u001b[39m df = pd.read_csv(\u001b[33m'\u001b[39m\u001b[33mmusic.csv\u001b[39m\u001b[33m'\u001b[39m)  \u001b[38;5;66;03m#gender 1=M 0=F   \u001b[39;00m\n\u001b[32m      9\u001b[39m X = df.drop(columns=[\u001b[33m'\u001b[39m\u001b[33mgenre\u001b[39m\u001b[33m'\u001b[39m]) \u001b[38;5;66;03m#creates new dataset dropping the specified column\u001b[39;00m\n",
      "\u001b[31mImportError\u001b[39m: cannot import name 'joblib' from 'sklearn.externals' (C:\\ProgramData\\anaconda3\\Lib\\site-packages\\sklearn\\externals\\__init__.py)"
     ]
    }
   ],
   "source": [
    "import pandas as pd\n",
    "from sklearn.tree import DecisionTreeClassifier\n",
    "from sklearn.model_selection import train_test_split\n",
    "from sklearn.metrics import accuracy_score\n",
    "from sklearn.externals import joblib\n",
    "\n",
    "df = pd.read_csv('music.csv')  #gender 1=M 0=F   \n",
    "\n",
    "X = df.drop(columns=['genre']) #creates new dataset dropping the specified column\n",
    "y=df['genre'] #output data\n",
    "# X_train, X_test, y_train, y_test = train_test_split(X,y, test_size=0.1 ) #X_train, X_test for input set training&testing y_train, y_test for output train&test\n",
    "\n",
    "\n",
    "\n"
   ]
  },
  {
   "cell_type": "code",
   "execution_count": null,
   "id": "c5d263d4-d5f0-4d52-a2e1-3326fc6dc2b9",
   "metadata": {},
   "outputs": [],
   "source": [
    "# DECISION TREE ALGORITHM\n",
    "\n",
    "model = DecisionTreeClassifier()\n",
    "model.fit(X ,y)\n",
    "\n",
    "joblib.dump(model, 'music_suggest.joblib')\n",
    "\n",
    "# predicted_outcome = model.predict(X_test)\n",
    "\n",
    "# score = accuracy_score(y_test, predicted_outcome)\n",
    "# score"
   ]
  },
  {
   "cell_type": "code",
   "execution_count": 9,
   "id": "0d68ab38-0337-4496-aa36-7477cdfa3f50",
   "metadata": {},
   "outputs": [
    {
     "data": {
      "text/plain": [
       "['music-suggest']"
      ]
     },
     "execution_count": 9,
     "metadata": {},
     "output_type": "execute_result"
    }
   ],
   "source": [
    "import pandas as pd\n",
    "from sklearn.tree import DecisionTreeClassifier\n",
    "import joblib\n",
    "\n",
    "music_data = pd.read_csv('music.csv')\n",
    "x = music_data.drop(columns=['genre'])\n",
    "y = music_data['genre']\n",
    "\n",
    "model = DecisionTreeClassifier()\n",
    "model.fit(x,y)\n",
    "\n",
    "joblib.dump(model, 'music-suggest')"
   ]
  },
  {
   "cell_type": "code",
   "execution_count": 15,
   "id": "63a3a0f4-cff3-4813-be62-2ccc247a3985",
   "metadata": {},
   "outputs": [
    {
     "name": "stderr",
     "output_type": "stream",
     "text": [
      "C:\\ProgramData\\anaconda3\\Lib\\site-packages\\sklearn\\base.py:493: UserWarning: X does not have valid feature names, but DecisionTreeClassifier was fitted with feature names\n",
      "  warnings.warn(\n"
     ]
    },
    {
     "data": {
      "text/plain": [
       "array(['HipHop'], dtype=object)"
      ]
     },
     "execution_count": 15,
     "metadata": {},
     "output_type": "execute_result"
    }
   ],
   "source": [
    "model = joblib.load('music-suggest')\n",
    "prediction = model.predict([[21,1]])\n",
    "prediction"
   ]
  },
  {
   "cell_type": "code",
   "execution_count": null,
   "id": "97995704-3580-42b0-bbc4-169d7caad70c",
   "metadata": {},
   "outputs": [],
   "source": []
  }
 ],
 "metadata": {
  "kernelspec": {
   "display_name": "Python 3 (ipykernel)",
   "language": "python",
   "name": "python3"
  },
  "language_info": {
   "codemirror_mode": {
    "name": "ipython",
    "version": 3
   },
   "file_extension": ".py",
   "mimetype": "text/x-python",
   "name": "python",
   "nbconvert_exporter": "python",
   "pygments_lexer": "ipython3",
   "version": "3.12.7"
  }
 },
 "nbformat": 4,
 "nbformat_minor": 5
}
