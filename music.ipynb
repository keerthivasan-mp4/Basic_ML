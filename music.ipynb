{
 "cells": [
  {
   "cell_type": "code",
   "execution_count": 58,
   "id": "64b52a3c-7590-4497-9ed5-afc7becede23",
   "metadata": {},
   "outputs": [],
   "source": [
    "import pandas as pd\n",
    "from sklearn.tree import DecisionTreeClassifier\n",
    "from sklearn.model_selection import train_test_split\n",
    "from sklearn.metrics import accuracy_score\n",
    "\n",
    "df = pd.read_csv('music.csv')  #gender 1=M 0=F   \n",
    "\n",
    "X = df.drop(columns=['genre']) #creates new dataset dropping the specified column\n",
    "y=df['genre'] #output data\n",
    "X_train, X_test, y_train, y_test = train_test_split(X,y, test_size=0.1 ) #X_train, X_test for input set training&testing y_train, y_test for output train&test\n",
    "\n",
    "\n",
    "\n"
   ]
  },
  {
   "cell_type": "code",
   "execution_count": 59,
   "id": "c5d263d4-d5f0-4d52-a2e1-3326fc6dc2b9",
   "metadata": {},
   "outputs": [
    {
     "data": {
      "text/plain": [
       "0.5"
      ]
     },
     "execution_count": 59,
     "metadata": {},
     "output_type": "execute_result"
    }
   ],
   "source": [
    "# DECISION TREE ALGORITHM\n",
    "\n",
    "model = DecisionTreeClassifier()\n",
    "model.fit(X_train ,y_train)\n",
    "predicted_outcome = model.predict(X_test)\n",
    "\n",
    "score = accuracy_score(y_test, predicted_outcome)\n",
    "score"
   ]
  },
  {
   "cell_type": "code",
   "execution_count": null,
   "id": "0d68ab38-0337-4496-aa36-7477cdfa3f50",
   "metadata": {},
   "outputs": [],
   "source": []
  }
 ],
 "metadata": {
  "kernelspec": {
   "display_name": "Python 3 (ipykernel)",
   "language": "python",
   "name": "python3"
  },
  "language_info": {
   "codemirror_mode": {
    "name": "ipython",
    "version": 3
   },
   "file_extension": ".py",
   "mimetype": "text/x-python",
   "name": "python",
   "nbconvert_exporter": "python",
   "pygments_lexer": "ipython3",
   "version": "3.12.7"
  }
 },
 "nbformat": 4,
 "nbformat_minor": 5
}
